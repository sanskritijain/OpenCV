{
 "cells": [
  {
   "cell_type": "code",
   "execution_count": 1,
   "metadata": {},
   "outputs": [
    {
     "ename": "ImportError",
     "evalue": "cannot import name 'image_resize' from 'python_utils' (c:\\users\\sanskriti\\appdata\\local\\programs\\python\\python37\\lib\\site-packages\\python_utils\\__init__.py)",
     "output_type": "error",
     "traceback": [
      "\u001b[1;31m---------------------------------------------------------------------------\u001b[0m",
      "\u001b[1;31mImportError\u001b[0m                               Traceback (most recent call last)",
      "\u001b[1;32m<ipython-input-1-87a4e94e4240>\u001b[0m in \u001b[0;36m<module>\u001b[1;34m\u001b[0m\n\u001b[0;32m      4\u001b[0m \u001b[1;31m#pip install python-utils\u001b[0m\u001b[1;33m\u001b[0m\u001b[1;33m\u001b[0m\u001b[1;33m\u001b[0m\u001b[0m\n\u001b[0;32m      5\u001b[0m \u001b[1;33m\u001b[0m\u001b[0m\n\u001b[1;32m----> 6\u001b[1;33m \u001b[1;32mfrom\u001b[0m \u001b[0mpython_utils\u001b[0m \u001b[1;32mimport\u001b[0m  \u001b[0mimage_resize\u001b[0m\u001b[1;33m\u001b[0m\u001b[1;33m\u001b[0m\u001b[0m\n\u001b[0m\u001b[0;32m      7\u001b[0m \u001b[1;33m\u001b[0m\u001b[0m\n\u001b[0;32m      8\u001b[0m \u001b[1;31m#img = cv2.imread(\"C:/Users/Sanskriti/AppData/Local/Programs/Python/Python37/Scripts/codingBlocks/ProjectFaceRecogniton-OpenCV/snapchatFilter/Test/Before.png\",0)\u001b[0m\u001b[1;33m\u001b[0m\u001b[1;33m\u001b[0m\u001b[1;33m\u001b[0m\u001b[0m\n",
      "\u001b[1;31mImportError\u001b[0m: cannot import name 'image_resize' from 'python_utils' (c:\\users\\sanskriti\\appdata\\local\\programs\\python\\python37\\lib\\site-packages\\python_utils\\__init__.py)"
     ]
    }
   ],
   "source": [
    "import cv2\n",
    "import numpy as np \n",
    "import os\n",
    "#pip install python-utils\n",
    "\n",
    "#from python_utils import  image_resize\n",
    "\n",
    "#img = cv2.imread(\"C:/Users/Sanskriti/AppData/Local/Programs/Python/Python37/Scripts/codingBlocks/ProjectFaceRecogniton-OpenCV/snapchatFilter/Test/Before.png\",0)\n",
    "#cv2.imshow(\"Before picture \",img)\n",
    "face_cascade  = cv2.CascadeClassifier(\"C:/Users/Sanskriti/AppData/Local/Programs/Python/Python37/Scripts/codingBlocks/ProjectFaceRecogniton-OpenCV/haarcascade_frontalface_alt.xml\")\n",
    "eyes_cascade  = cv2.CascadeClassifier(\"C:/Users/Sanskriti/AppData/Local/Programs/Python/Python37/Scripts/codingBlocks/ProjectFaceRecogniton-OpenCV/snapchatFilter/haarcascade_eye.xml\")\n",
    "\n",
    "\n",
    "#nose_cascade = cv2.CascadeClassifier(\"C:/Users/Sanskriti/AppData/Local/Programs/Python/Python37/Scripts/codingBlocks/ProjectFaceRecogniton-OpenCV/snapchatFilter/Train/Nose18x15.xml\")\n",
    "\n",
    "glasses = cv2.imread(\"C:/Users/Sanskriti/AppData/Local/Programs/Python/Python37/Scripts/codingBlocks/ProjectFaceRecogniton-OpenCV/snapchatFilter/Train/glasses.png\")\n",
    "#mustache = cv2.imread(\"C:/Users/Sanskriti/AppData/Local/Programs/Python/Python37/Scripts/codingBlocks/ProjectFaceRecogniton-OpenCV/snapchatFilter/Train/mustache.png\")\n",
    "\n",
    "cap = cv2.VideoCapture(0)\n",
    "\n",
    "while (True) :\n",
    "    ret,frame= cap.read()\n",
    "\n",
    "    if ret ==False :\n",
    "        continue\n",
    "    \n",
    "\n",
    "    faces = face_cascade.detectMultiScale(frame , 1.3,5)\n",
    "    for x,y,w,h in faces:\n",
    "        roi_img = frame[y:y+h,x:x+w]\n",
    "        cv2.rectangle(frame, (x,y),(x+w,y+h),(255,0,0),3) # 3 is for the width of the rectanglecv2.imshow(\"New Image\" , img)\n",
    "\n",
    "        eyes = eyes_cascade.detectMultiScale(roi_img,1.1,10)\n",
    "        for ex,ey,ew,eh in eyes :\n",
    "            #cv2.rectangle(roi_img , (ex,ey),(ex+ew ,ey+eh),(0,255,0),2)\n",
    "            #glasses2 = image_resize(glasses.copy(), width=ew)\n",
    "            \n",
    "            gw, gh, gc = glasses.shape\n",
    "            for i in range(0, gw):\n",
    "                for j in range(0, gh):\n",
    "                    #print(glasses[i, j]) #RGBA\n",
    "                    if glasses[i, j][3] != 0: # alpha 0\n",
    "                        roi_color[ey + i, ex + j] = glasses[i, j]\n",
    "       # noses = nose_cascade.detectMultiScale(roi_img , 1.0,11)\n",
    "        #for nx,ny,nw,nh in noses : \n",
    "         #   cv2.rectangle(roi_img,(nx+ny),(nx+nw,ny+nh),(255,255,255),3)\n",
    "        \n",
    "\n",
    "    cv2.imshow(\"faces\", frame)\n",
    "\n",
    "    key_pressed = cv2.waitKey(1) & 0xFF\n",
    "    if key_pressed == ord('q'):\n",
    "        break\n",
    "    \n",
    "cap.release()\n",
    "cv2.destroyAllWindows();\n",
    "\n",
    "\n",
    "\n"
   ]
  },
  {
   "cell_type": "code",
   "execution_count": null,
   "metadata": {},
   "outputs": [],
   "source": []
  },
  {
   "cell_type": "code",
   "execution_count": null,
   "metadata": {},
   "outputs": [],
   "source": []
  },
  {
   "cell_type": "code",
   "execution_count": null,
   "metadata": {},
   "outputs": [],
   "source": []
  }
 ],
 "metadata": {
  "kernelspec": {
   "display_name": "Python 3",
   "language": "python",
   "name": "python3"
  }
 },
 "nbformat": 4,
 "nbformat_minor": 4
}
